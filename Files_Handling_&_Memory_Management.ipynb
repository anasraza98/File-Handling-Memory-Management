{
  "nbformat": 4,
  "nbformat_minor": 0,
  "metadata": {
    "colab": {
      "provenance": []
    },
    "kernelspec": {
      "name": "python3",
      "display_name": "Python 3"
    },
    "language_info": {
      "name": "python"
    }
  },
  "cells": [
    {
      "cell_type": "markdown",
      "source": [
        "# Files, exceptional handling, logging and memory management Questions\n",
        "\n",
        "1. What is the difference between interpreted and compiled languages?\n",
        "\n",
        "  - Interpreted languages like Python, executes codes line by lineusing an interpreter, allowing quick testing and debugging.\n",
        "  - Compiled languages like C++ are translated into machine code beforehand, offering faster execution but slower development cycles.\n",
        "  \n",
        "2. What is exception handling in Python?\n",
        "\n",
        "  - Python provides a way to gracefully handle runtime errors using try, except, else and finally blocks. This help prevent program crashes and allow custom error messages and recovery steps.\n",
        "\n",
        "3. What is the purpose of the finally block in exception handling?\n",
        "\n",
        "  - The finally block runs whether or not anexception occurs. It's typically used for cleanup actions like closing files or releasing resources to ensure the program behaves predictably.\n",
        "\n",
        "4. What is logging in Python?\n",
        "\n",
        "  - Logging is a built-in module that helps record messages about program execution. It's useful for debugging, monitoring, and saving error messages to files instead of using print statements.\n",
        "\n",
        "5. What is the significance of the __del__ method in Python?\n",
        "\n",
        "  - This is a special method that acts as a destructor. It gets called automatically when an object is deleted or garbage-collected. It's used to release resources or do final cleanup.\n",
        "\n",
        "6. What is the difference between import and from ... import in Python?\n",
        "\n",
        "  - import module: It brings the entire module, accessed via module.name.\n",
        "  - from module import name: It imports only the specified function or class directly.\n",
        "\n",
        "7. How can you handle multiple exceptions in Python?\n",
        "\n",
        "  - We can handle multiple exceptions using multiple except blocks or by grouping exceptions in a tuple in one block. This allows your program to deal with various error types more effectively.\n",
        "\n",
        "8. What is the purpose of the with statement when handling files in Python?\n",
        "\n",
        "  - The with statement ensures that resources like files are properly acquired and released. It simplifies file handling by automatically closing the file, even if an error occurs.\n",
        "\n",
        "9. What is the difference between multithreading and multiprocessing?\n",
        "  \n",
        "  - Multithreading uses threads within the same process, sharing memory. Good for I/O-bound tasks.\n",
        "\n",
        "  - Multiprocessing runs processes in parallel with separate memory. Better for CPU-bound tasks.\n",
        "\n",
        "10. What are the advantages of using logging in a program?\n",
        "\n",
        "  - Logging provides real-time tracking of events and errors in an application. It is more flexible than print statements and can be configured to log messages to different destinations with varying severity levels.\n",
        "\n",
        "11. What is memory management in Python?\n",
        "\n",
        "  - Python manages memory using reference counting and a built-in garbage collector. Objects are automatically allocated and deallocated, which simplifies development and avoids most memory leaks.\n",
        "\n",
        "12. What are the basic steps involved in exception handling in Python?\n",
        "\n",
        "  - try: Code that might raise an error\n",
        "\n",
        "  - except: Code to handle the error\n",
        "\n",
        "  - else: Executes if no error occurred\n",
        "\n",
        "  - finally: Executes regardless of error for cleanup\n",
        "\n",
        "13. Why is memory management important in Python?\n",
        "\n",
        "  - Efficient memory management prevents memory leaks, keeps performance optimal, and ensures resources are released when no longer needed, especially in large or long-running applications.\n",
        "\n",
        "14. What is the role of try and except in exception handling?\n",
        "\n",
        "  - The 'try' block wraps code that might raise an exception, and 'except' handles those exceptions, allowing the program to recover or provide user-friendly error messages.\n",
        "\n",
        "15. How does Python's garbage collection system work?\n",
        "\n",
        "  - Python uses reference counting and a cyclic garbage collector. When an object's reference count drops to zero, it's cleaned up. The Garbage Collector also detects and removes cycles of unreachable objects.\n",
        "\n",
        "16. What is the purpose of the else block in exception handling?\n",
        "\n",
        "  - The else block runs if no exceptions occur in the try block. It's useful for code that should only execute when the try block is successful.\n",
        "\n",
        "17. What are the common logging levels in Python?\n",
        "\n",
        "  - DEBUG: Detailed info for diagnosing problems.\n",
        "\n",
        "  - INFO: General program events.\n",
        "\n",
        "  - WARNING: Something unexpected, but not breaking.\n",
        "\n",
        "  - ERROR: A problem occurred.\n",
        "\n",
        "  - CRITICAL: Serious error, program may not continue.\n",
        "\n",
        "18. What is the difference between os.fork() and multiprocessing in Python?\n",
        "\n",
        "  - os.fork() creates a new process on Unix systems by duplicating the current process.\n",
        "  - multiprocessing is a portable, high-level module that works on all platforms and allows easy process-based parallelism.\n",
        "\n",
        "19. What is the importance of closing a file in Python?\n",
        "\n",
        "  - Closing a file ensures that all data is saved properly and that system resources like file handles are released, preventing data corruption or resource leaks.\n",
        "\n",
        "20. What is the difference between file.read() and file.readline() in Python?\n",
        "\n",
        "  - file.read(): Reads the entire file as a single string.\n",
        "\n",
        "  - file.readline(): Reads one line at a time, useful for line-by-line processing.\n",
        "\n",
        "21. What is the logging module in Python used for?\n",
        "\n",
        "  - It records program events, errors, and status updates, which helps in debugging, monitoring, and maintaining logs for analysis or auditing.\n",
        "\n",
        "22. What is the os module in Python used for in file handling?\n",
        "\n",
        "  - It provides functions for interacting with the operating system, such as creating, removing, or renaming files and directories, checking paths, and setting permissions.\n",
        "\n",
        "23. What are the challenges associated with memory management in Python?\n",
        "\n",
        "  - Detecting memory leaks\n",
        "\n",
        "  - Handling circular references\n",
        "\n",
        "  - Managing large datasets efficiently\n",
        "\n",
        "  - Understanding lifetime and scope of variables\n",
        "\n",
        "24. How do you raise an exception manually in Python?  \n",
        "\n",
        "  - We can use the raise keyword to trigger exceptions, either built-in or custom:\n",
        "  raise ValueError(\"Invalid value provided\")\n",
        "\n",
        "25. Why is it important to use multithreading in certain applications?\n",
        "\n",
        "  - Multithreading is ideal for I/O bound tasks like network requests or disk operations. It improves responsiveness and can speed up execution by handling multiple operations concurrently.\n",
        "\n",
        "\n",
        "\n",
        "  \n"
      ],
      "metadata": {
        "id": "B2qKGYBDeD21"
      }
    },
    {
      "cell_type": "code",
      "execution_count": 17,
      "metadata": {
        "id": "m4JMYxOweByd",
        "colab": {
          "base_uri": "https://localhost:8080/"
        },
        "outputId": "586280e0-c3a9-4a5c-8e21-524cfcfc2fa5"
      },
      "outputs": [
        {
          "output_type": "stream",
          "name": "stdout",
          "text": [
            "Wrote 'Hello, Ajay' to 'example1.txt'.\n"
          ]
        }
      ],
      "source": [
        "# PRACRICAL QUESTIONS\n",
        "\n",
        "\n",
        "#1 How can you open a file for writing in Python and write a string to it?\n",
        "\n",
        "with open(\"example1.txt\", \"w\") as file:\n",
        "    file.write(\"Hello, World!\")\n",
        "print(\"Wrote 'Hello, Ajay' to 'example1.txt'.\")"
      ]
    },
    {
      "cell_type": "code",
      "source": [
        "#2.  Write a Python program to read the contents of a file and print each line.\n",
        "\n",
        "print(\"Contents of 'example1.txt':\")\n",
        "with open(\"example1.txt\", \"r\") as f:\n",
        "    for line in f:\n",
        "        print(line.strip())"
      ],
      "metadata": {
        "id": "Kf7pVGLoXpD7",
        "colab": {
          "base_uri": "https://localhost:8080/"
        },
        "outputId": "46d5ff13-39a6-4fdb-e53e-60b41ee37a7c"
      },
      "execution_count": 16,
      "outputs": [
        {
          "output_type": "stream",
          "name": "stdout",
          "text": [
            "Contents of 'example1.txt':\n",
            "Hello, World!\n"
          ]
        }
      ]
    },
    {
      "cell_type": "code",
      "source": [
        "#3. How would you handle a case where the file doesn't exist while trying to open it for reading?\n",
        "\n",
        "\n",
        "print(\"Attempting to open a non-existent file:\")\n",
        "try:\n",
        "    with open(\"nonexistent_file.txt\", \"r\") as file:\n",
        "        content = file.read()\n",
        "except FileNotFoundError:\n",
        "    print(\"The file 'nonexistent_file.txt' does not exist.\")"
      ],
      "metadata": {
        "colab": {
          "base_uri": "https://localhost:8080/"
        },
        "id": "KenrvlFYs7UR",
        "outputId": "5edc07ae-be71-4e3a-f776-1d6d1f5882ee"
      },
      "execution_count": 15,
      "outputs": [
        {
          "output_type": "stream",
          "name": "stdout",
          "text": [
            "Attempting to open a non-existent file:\n",
            "The file 'nonexistent_file.txt' does not exist.\n"
          ]
        }
      ]
    },
    {
      "cell_type": "code",
      "source": [
        "#4.  Write a Python script that reads from one file and writes its content to another file.\n",
        "\n",
        "with open(\"example1.txt\", \"r\") as source, open(\"copy_example1.txt\", \"w\") as dest:\n",
        "    dest.write(source.read())\n",
        "print(\"Content copied to 'copy_example1.txt'.\")"
      ],
      "metadata": {
        "colab": {
          "base_uri": "https://localhost:8080/"
        },
        "id": "Qhz6nk2UtQSv",
        "outputId": "d5dba821-d876-4336-bc6f-a0c8a2b735a5"
      },
      "execution_count": 9,
      "outputs": [
        {
          "output_type": "stream",
          "name": "stdout",
          "text": [
            "4. Content copied to 'copy_example1.txt'.\n"
          ]
        }
      ]
    },
    {
      "cell_type": "code",
      "source": [
        "#5. How would you catch and handle division by zero error in Python?\n",
        "\n",
        "try:\n",
        "    result = 10 / 0\n",
        "except ZeroDivisionError:\n",
        "    print(\"Division by zero error occurred.\")"
      ],
      "metadata": {
        "colab": {
          "base_uri": "https://localhost:8080/"
        },
        "id": "9V9flAsJtkXA",
        "outputId": "14353654-1624-4a7e-ca29-e9bbbb031109"
      },
      "execution_count": 12,
      "outputs": [
        {
          "output_type": "stream",
          "name": "stdout",
          "text": [
            "Division by zero error occurred.\n"
          ]
        }
      ]
    },
    {
      "cell_type": "code",
      "source": [
        "#6. Write a Python program that logs an error message to a log file when a division by zero exception occurs.\n",
        "\n",
        "import logging\n",
        "logging.basicConfig(filename=\"error_log.log\", level=logging.ERROR)\n",
        "try:\n",
        "    result = 10 / 0\n",
        "except ZeroDivisionError:\n",
        "    logging.error(\"Division by zero occurred.\")\n",
        "print(\"Division by zero logged in 'error_log.log'.\")"
      ],
      "metadata": {
        "colab": {
          "base_uri": "https://localhost:8080/"
        },
        "id": "p9XUcLlytsVB",
        "outputId": "0d6e7e71-44b1-4852-83ce-497b355fbd2d"
      },
      "execution_count": 13,
      "outputs": [
        {
          "output_type": "stream",
          "name": "stderr",
          "text": [
            "ERROR:root:Division by zero occurred.\n"
          ]
        },
        {
          "output_type": "stream",
          "name": "stdout",
          "text": [
            "Division by zero logged in 'error_log.log'.\n"
          ]
        }
      ]
    },
    {
      "cell_type": "code",
      "source": [
        "#7  How do you log information at different levels (INFO, ERROR, WARNING) in Python using the logging module?\n",
        "\n",
        "import logging\n",
        "logging.basicConfig(level=logging.INFO)\n",
        "logging.info(\"This is an info message.\")\n",
        "logging.warning(\"This is a warning message.\")\n",
        "logging.error(\"This is an error message.\")"
      ],
      "metadata": {
        "colab": {
          "base_uri": "https://localhost:8080/"
        },
        "id": "MaqTcjZ4t4gm",
        "outputId": "beab37c1-3401-4be0-f3b0-d15c195806cf"
      },
      "execution_count": 18,
      "outputs": [
        {
          "output_type": "stream",
          "name": "stderr",
          "text": [
            "WARNING:root:This is a warning message.\n",
            "ERROR:root:This is an error message.\n"
          ]
        }
      ]
    },
    {
      "cell_type": "code",
      "source": [
        "#8. Write a program to handle a file opening error using exception handling?\n",
        "\n",
        "try:\n",
        "    with open(\"nonexistent_file.txt\", \"r\") as file:\n",
        "        content = file.read()\n",
        "except FileNotFoundError:\n",
        "    print(\"The file 'nonexistent_file.txt' does not exist.\")\n",
        "\n"
      ],
      "metadata": {
        "colab": {
          "base_uri": "https://localhost:8080/"
        },
        "id": "yBeW4QJnuOf5",
        "outputId": "678c99f4-55dd-4e25-81bd-5d753822fcc3"
      },
      "execution_count": 19,
      "outputs": [
        {
          "output_type": "stream",
          "name": "stdout",
          "text": [
            "The file 'nonexistent_file.txt' does not exist.\n"
          ]
        }
      ]
    },
    {
      "cell_type": "code",
      "source": [
        "#9. How can you read a file line by line and store its content in a list in Python?\n",
        "\n",
        "with open(\"example1.txt\", \"r\") as file:\n",
        "    lines = file.readlines()\n",
        "for line in lines:\n",
        "    print(line.strip())"
      ],
      "metadata": {
        "colab": {
          "base_uri": "https://localhost:8080/"
        },
        "id": "KXl6l1ICufeR",
        "outputId": "afb3b7da-1f6b-4701-d1de-283a0d6d83fd"
      },
      "execution_count": 20,
      "outputs": [
        {
          "output_type": "stream",
          "name": "stdout",
          "text": [
            "Hello, World!\n"
          ]
        }
      ]
    },
    {
      "cell_type": "code",
      "source": [
        "#10.  How can you append data to an existing file in Python?\n",
        "\n",
        "with open(\"example1.txt\", \"a\") as file:\n",
        "    file.write(\"\\nAppended line.\")\n",
        "print(\"Appended 'Appended line.' to 'example1.txt'.\")"
      ],
      "metadata": {
        "colab": {
          "base_uri": "https://localhost:8080/"
        },
        "id": "E8-1caQeuoCA",
        "outputId": "c009a916-03dd-4392-af0b-a0ccf1eb369a"
      },
      "execution_count": 21,
      "outputs": [
        {
          "output_type": "stream",
          "name": "stdout",
          "text": [
            "Appended 'Appended line.' to 'example1.txt'.\n"
          ]
        }
      ]
    },
    {
      "cell_type": "code",
      "source": [
        "#11. Write a Python program that uses a try-except block to handle an error when attempting to access a\n",
        "#    dictionary key that doesn't exist.\n",
        "\n",
        "my_dict = {\"a\": 1, \"b\": 2, \"c\": 3}\n",
        "try:\n",
        "    value = my_dict[\"d\"]\n",
        "except KeyError:\n",
        "    print(\"Key 'd' does not exist in the dictionary.\")"
      ],
      "metadata": {
        "colab": {
          "base_uri": "https://localhost:8080/"
        },
        "id": "Glc0UJDHut_b",
        "outputId": "34f35de0-0bd9-4b97-a1ed-5ee761063516"
      },
      "execution_count": 22,
      "outputs": [
        {
          "output_type": "stream",
          "name": "stdout",
          "text": [
            "Key 'd' does not exist in the dictionary.\n"
          ]
        }
      ]
    },
    {
      "cell_type": "code",
      "source": [
        "#12. Write a program that demonstrates using multiple except blocks to handle different types of exceptions.\n",
        "\n",
        "try:\n",
        "    result = 10 / 0\n",
        "except ZeroDivisionError:\n",
        "    print(\"Division by zero error occurred.\")\n",
        "except ValueError:\n",
        "    print(\"Value error occurred.\")\n"
      ],
      "metadata": {
        "colab": {
          "base_uri": "https://localhost:8080/"
        },
        "id": "0Wv_YRk5u0-M",
        "outputId": "8dc90573-4a93-48d7-b815-331ce23eef6f"
      },
      "execution_count": 23,
      "outputs": [
        {
          "output_type": "stream",
          "name": "stdout",
          "text": [
            "Division by zero error occurred.\n"
          ]
        }
      ]
    },
    {
      "cell_type": "code",
      "source": [
        "#13. How would you check if a file exists before attempting to read it in Python?\n",
        "\n",
        "import os\n",
        "if os.path.exists(\"example1.txt\"):\n",
        "    with open(\"example1.txt\", \"r\") as file:\n",
        "        content = file.read()\n",
        "        print(content)\n",
        "\n"
      ],
      "metadata": {
        "colab": {
          "base_uri": "https://localhost:8080/"
        },
        "id": "auQUYJ3wu9T-",
        "outputId": "9eac9a3a-893c-48b5-86db-84d900e25776"
      },
      "execution_count": 24,
      "outputs": [
        {
          "output_type": "stream",
          "name": "stdout",
          "text": [
            "Hello, World!\n",
            "Appended line.\n"
          ]
        }
      ]
    },
    {
      "cell_type": "code",
      "source": [
        "#14. Write a program that uses the logging module to log both informational and error messages.\n",
        "\n",
        "import logging\n",
        "logging.basicConfig(level=logging.INFO)\n",
        "logging.info(\"This is an info message.\")\n",
        "logging.error(\"This is an error message.\")"
      ],
      "metadata": {
        "colab": {
          "base_uri": "https://localhost:8080/"
        },
        "id": "fKkMeVxLvMIs",
        "outputId": "9dab785e-fb96-45bb-bbc5-fd4b42060506"
      },
      "execution_count": 25,
      "outputs": [
        {
          "output_type": "stream",
          "name": "stderr",
          "text": [
            "ERROR:root:This is an error message.\n"
          ]
        }
      ]
    },
    {
      "cell_type": "code",
      "source": [
        "#15. Write a Python program that prints the content of a file and handles the case when the file is empty.\n",
        "\n",
        "try:\n",
        "    with open(\"example1.txt\", \"r\") as file:\n",
        "        content = file.read()\n",
        "        if content:\n",
        "            print(content)\n",
        "        else:\n",
        "            print(\"The file is empty.\")\n",
        "except FileNotFoundError:\n",
        "    print"
      ],
      "metadata": {
        "colab": {
          "base_uri": "https://localhost:8080/"
        },
        "id": "jwIoWbwYvS_z",
        "outputId": "23257b22-1f23-495b-cd38-74a56e11fda1"
      },
      "execution_count": 26,
      "outputs": [
        {
          "output_type": "stream",
          "name": "stdout",
          "text": [
            "Hello, World!\n",
            "Appended line.\n"
          ]
        }
      ]
    },
    {
      "cell_type": "code",
      "source": [
        "#16. Demonstrate how to use memory profiling to check the memory usage of a small program.\n",
        "\n",
        "\n",
        "print(\"Memory profiling:\")\n",
        "import tracemalloc\n",
        "tracemalloc.start()\n",
        "a = [i for i in range(10000)]\n",
        "current, peak = tracemalloc.get_traced_memory()\n",
        "tracemalloc.stop()\n",
        "print(f\"Current memory: {current}, Peak memory: {peak}\")\n",
        "\n"
      ],
      "metadata": {
        "colab": {
          "base_uri": "https://localhost:8080/"
        },
        "id": "Ihk3PKJrvYZ0",
        "outputId": "f60252e9-7d99-458a-e338-ad0a1685345d"
      },
      "execution_count": 27,
      "outputs": [
        {
          "output_type": "stream",
          "name": "stdout",
          "text": [
            "Memory profiling:\n",
            "Current memory: 398144, Peak memory: 409452\n"
          ]
        }
      ]
    },
    {
      "cell_type": "code",
      "source": [
        "#17. Write a Python program to create and write a list of numbers to a file, one number per line.\n",
        "\n",
        "numbers = [1, 2, 3, 4, 5]\n",
        "with open(\"numbers.txt\", \"w\") as file:\n",
        "    for num in numbers:\n",
        "        file.write(str(num) + \"\\n\")\n",
        "print"
      ],
      "metadata": {
        "colab": {
          "base_uri": "https://localhost:8080/"
        },
        "id": "MVRdP7wBvmfY",
        "outputId": "c0e51986-ef53-4c8b-9649-a05910f00668"
      },
      "execution_count": 28,
      "outputs": [
        {
          "output_type": "execute_result",
          "data": {
            "text/plain": [
              "<function print(*args, sep=' ', end='\\n', file=None, flush=False)>"
            ]
          },
          "metadata": {},
          "execution_count": 28
        }
      ]
    },
    {
      "cell_type": "code",
      "source": [
        "#18. How would you implement a basic logging setup that logs to a file with rotation after 1MB?\n",
        "\n",
        "from logging.handlers import RotatingFileHandler\n",
        "handler = RotatingFileHandler(\"rotate_log.log\", maxBytes=1024*1024, backupCount=1)\n",
        "logger = logging.getLogger(\"RotatingLogger\")\n",
        "logger.setLevel(logging.INFO)\n",
        "logger.addHandler(handler)\n",
        "logger.info(\"Rotating log example.\")\n",
        "print(\"Created rotating log setup.\")"
      ],
      "metadata": {
        "colab": {
          "base_uri": "https://localhost:8080/"
        },
        "id": "4qMK5ZhuvtOC",
        "outputId": "26f49632-5c57-4ac2-c865-d7fb453f21d4"
      },
      "execution_count": 29,
      "outputs": [
        {
          "output_type": "stream",
          "name": "stderr",
          "text": [
            "INFO:RotatingLogger:Rotating log example.\n"
          ]
        },
        {
          "output_type": "stream",
          "name": "stdout",
          "text": [
            "Created rotating log setup.\n"
          ]
        }
      ]
    },
    {
      "cell_type": "code",
      "source": [
        "#19. Write a program that handles both IndexError and KeyError using a try-except block.\n",
        "\n",
        "print(\"Handling IndexError and KeyError:\")\n",
        "try:\n",
        "    l = [1, 2]\n",
        "    print(l[5])\n",
        "except IndexError:\n",
        "    print(\"IndexError handled.\")\n",
        "try:\n",
        "    d = {}\n",
        "    print(d[\"x\"])\n",
        "except KeyError:\n",
        "    print(\"KeyError handled.\")"
      ],
      "metadata": {
        "colab": {
          "base_uri": "https://localhost:8080/"
        },
        "id": "eOMm6y2Ov8ha",
        "outputId": "c42912d9-8081-44d8-9534-9643e6745a0c"
      },
      "execution_count": 31,
      "outputs": [
        {
          "output_type": "stream",
          "name": "stdout",
          "text": [
            "Handling IndexError and KeyError:\n",
            "IndexError handled.\n",
            "KeyError handled.\n"
          ]
        }
      ]
    },
    {
      "cell_type": "code",
      "source": [
        "#20. How would you open a file and read its contents using a context manager in Python?\n",
        "\n",
        "print(\"Using context manager to read file:\")\n",
        "with open(\"example1.txt\", \"r\") as f:\n",
        "    print(f.read())"
      ],
      "metadata": {
        "colab": {
          "base_uri": "https://localhost:8080/"
        },
        "id": "hjY8wAOOwZfC",
        "outputId": "66974546-6d70-4879-d87d-b6ef6aec4c30"
      },
      "execution_count": 32,
      "outputs": [
        {
          "output_type": "stream",
          "name": "stdout",
          "text": [
            "Using context manager to read file:\n",
            "Hello, World!\n",
            "Appended line.\n"
          ]
        }
      ]
    },
    {
      "cell_type": "code",
      "source": [
        "#21. Write a Python program that reads a file and prints the number of occurrences of a specific word.\n",
        "\n",
        "print(\"Counting occurrences of the word 'Hello':\")\n",
        "word = \"Hello\"\n",
        "with open(\"example1.txt\", \"r\") as f:\n",
        "    text = f.read()\n",
        "    print(text.count(word))\n"
      ],
      "metadata": {
        "colab": {
          "base_uri": "https://localhost:8080/"
        },
        "id": "2Bubs0m3woW5",
        "outputId": "72ec59cc-476d-4c77-a24b-a0e230d42b81"
      },
      "execution_count": 35,
      "outputs": [
        {
          "output_type": "stream",
          "name": "stdout",
          "text": [
            "Counting occurrences of the word 'Hello':\n",
            "1\n"
          ]
        }
      ]
    },
    {
      "cell_type": "code",
      "source": [
        "#22. How can you check if a file is empty before attempting to read its contents?\n",
        "\n",
        "print(\"Checking if 'example1.txt' is empty:\")\n",
        "print(os.stat(\"example1.txt\").st_size == 0)"
      ],
      "metadata": {
        "colab": {
          "base_uri": "https://localhost:8080/"
        },
        "id": "7VcShGkXwwFN",
        "outputId": "5f90f10b-5ba3-493c-cab5-4cb59aafd2bd"
      },
      "execution_count": 37,
      "outputs": [
        {
          "output_type": "stream",
          "name": "stdout",
          "text": [
            "Checking if 'example1.txt' is empty:\n",
            "False\n"
          ]
        }
      ]
    },
    {
      "cell_type": "code",
      "source": [
        "#23. Write a Python program that writes to a log file when an error occurs during file handling.\n",
        "\n",
        "logging.basicConfig(filename=\"error_handling.log\", level=logging.ERROR)\n",
        "try:\n",
        "    open(\"nonexistent_file.txt\", \"r\")\n",
        "except Exception as e:\n",
        "    logging.error(\"Error occurred: %s\", e)\n",
        "print(\"Logged error to 'error_handling.log'.\")\n"
      ],
      "metadata": {
        "colab": {
          "base_uri": "https://localhost:8080/"
        },
        "id": "vY3wooCbxE_h",
        "outputId": "23df6815-e4fa-4751-8d45-8423ada86955"
      },
      "execution_count": 39,
      "outputs": [
        {
          "output_type": "stream",
          "name": "stderr",
          "text": [
            "ERROR:root:Error occurred: [Errno 2] No such file or directory: 'nonexistent_file.txt'\n"
          ]
        },
        {
          "output_type": "stream",
          "name": "stdout",
          "text": [
            "Logged error to 'error_handling.log'.\n"
          ]
        }
      ]
    }
  ]
}